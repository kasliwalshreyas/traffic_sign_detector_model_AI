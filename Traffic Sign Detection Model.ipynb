{
 "cells": [
  {
   "cell_type": "code",
   "execution_count": 3,
   "metadata": {},
   "outputs": [],
   "source": [
    "# Traffic Sign Detector Model\n",
    "\n",
    "# features -> images\n",
    "# target -> 0 to 43\n",
    "\n",
    "import os\n",
    "import cv2"
   ]
  },
  {
   "cell_type": "markdown",
   "metadata": {},
   "source": [
    "# Loading the Data"
   ]
  },
  {
   "cell_type": "code",
   "execution_count": 4,
   "metadata": {},
   "outputs": [],
   "source": [
    "# location of your dataset\n",
    "\n",
    "loc = \"C:/Users/91808/Downloads/SPK IIIT/datasets/Traffic signs Dataset/\""
   ]
  },
  {
   "cell_type": "markdown",
   "metadata": {},
   "source": [
    "1. go inside the folders\n",
    "2. get names of each images\n",
    "3. one by one read the image\n",
    "4. store the image in a collection"
   ]
  },
  {
   "cell_type": "code",
   "execution_count": 5,
   "metadata": {},
   "outputs": [
    {
     "name": "stdout",
     "output_type": "stream",
     "text": [
      "Loading data in Folder 0\n",
      "Loading data in Folder 1\n",
      "Loading data in Folder 2\n",
      "Loading data in Folder 3\n",
      "Loading data in Folder 4\n",
      "Loading data in Folder 5\n",
      "Loading data in Folder 6\n",
      "Loading data in Folder 7\n",
      "Loading data in Folder 8\n",
      "Loading data in Folder 9\n",
      "Loading data in Folder 10\n",
      "Loading data in Folder 11\n",
      "Loading data in Folder 12\n",
      "Loading data in Folder 13\n",
      "Loading data in Folder 14\n",
      "Loading data in Folder 15\n",
      "Loading data in Folder 16\n",
      "Loading data in Folder 17\n",
      "Loading data in Folder 18\n",
      "Loading data in Folder 19\n",
      "Loading data in Folder 20\n",
      "Loading data in Folder 21\n",
      "Loading data in Folder 22\n",
      "Loading data in Folder 23\n",
      "Loading data in Folder 24\n",
      "Loading data in Folder 25\n",
      "Loading data in Folder 26\n",
      "Loading data in Folder 27\n",
      "Loading data in Folder 28\n",
      "Loading data in Folder 29\n",
      "Loading data in Folder 30\n",
      "Loading data in Folder 31\n",
      "Loading data in Folder 32\n",
      "Loading data in Folder 33\n",
      "Loading data in Folder 34\n",
      "Loading data in Folder 35\n",
      "Loading data in Folder 36\n",
      "Loading data in Folder 37\n",
      "Loading data in Folder 38\n",
      "Loading data in Folder 39\n",
      "Loading data in Folder 40\n",
      "Loading data in Folder 41\n",
      "Loading data in Folder 42\n"
     ]
    }
   ],
   "source": [
    "features = []\n",
    "target= []\n",
    "for i in list(range(0,43)):\n",
    "    collection_images_names = os.listdir(loc + str(i))\n",
    "    for j in collection_images_names:\n",
    "        img = cv2.imread(loc + str(i)+ \"/\" + j )\n",
    "        features.append(img)\n",
    "        target.append(i)\n",
    "    print(\"Loading data in Folder\" ,i)"
   ]
  },
  {
   "cell_type": "code",
   "execution_count": 8,
   "metadata": {},
   "outputs": [
    {
     "name": "stdout",
     "output_type": "stream",
     "text": [
      "<class 'list'>\n",
      "<class 'list'>\n"
     ]
    }
   ],
   "source": [
    "print(type(features))\n",
    "print(type(target))"
   ]
  },
  {
   "cell_type": "code",
   "execution_count": 9,
   "metadata": {},
   "outputs": [],
   "source": [
    "import numpy as np"
   ]
  },
  {
   "cell_type": "code",
   "execution_count": 10,
   "metadata": {},
   "outputs": [],
   "source": [
    "features = np.array(features)\n",
    "target = np.array(target)"
   ]
  },
  {
   "cell_type": "code",
   "execution_count": 14,
   "metadata": {},
   "outputs": [
    {
     "name": "stdout",
     "output_type": "stream",
     "text": [
      "<class 'numpy.ndarray'>\n",
      "<class 'numpy.ndarray'>\n"
     ]
    }
   ],
   "source": [
    "print(type(features))\n",
    "print(type(target))"
   ]
  },
  {
   "cell_type": "code",
   "execution_count": 15,
   "metadata": {},
   "outputs": [
    {
     "data": {
      "text/plain": [
       "(34798, 32, 32, 3)"
      ]
     },
     "execution_count": 15,
     "metadata": {},
     "output_type": "execute_result"
    }
   ],
   "source": [
    "features.shape"
   ]
  },
  {
   "cell_type": "code",
   "execution_count": 16,
   "metadata": {},
   "outputs": [
    {
     "data": {
      "text/plain": [
       "(34798,)"
      ]
     },
     "execution_count": 16,
     "metadata": {},
     "output_type": "execute_result"
    }
   ],
   "source": [
    "target.shape"
   ]
  },
  {
   "cell_type": "code",
   "execution_count": 17,
   "metadata": {},
   "outputs": [],
   "source": [
    "from sklearn.model_selection import train_test_split"
   ]
  },
  {
   "cell_type": "code",
   "execution_count": 18,
   "metadata": {},
   "outputs": [],
   "source": [
    "train_features,test_features,train_target,test_target= train_test_split(features,target,test_size=0.2)\n",
    "\n",
    "#20% to test,80% to train"
   ]
  },
  {
   "cell_type": "markdown",
   "metadata": {},
   "source": [
    "Preprocessing ->\n",
    "1. The technique to generate new images at different angles is called image augmentation\n",
    "2. Normalization - Reducing the range of pixel values by diving the pixel values by 255,just so that we have faster calculations.\n",
    "3. Converting the image to black and white(grayscale)"
   ]
  },
  {
   "cell_type": "code",
   "execution_count": 19,
   "metadata": {},
   "outputs": [],
   "source": [
    "def preprocessing(image):\n",
    "    image = cv2.cvtColor(image,cv2.COLOR_BGR2GRAY)\n",
    "    image = image/225\n",
    "    return image"
   ]
  },
  {
   "cell_type": "code",
   "execution_count": 20,
   "metadata": {},
   "outputs": [],
   "source": [
    "train_features = np.array(list(map(preprocessing,train_features)))\n",
    "test_features = np.array(list(map(preprocessing,test_features)))"
   ]
  },
  {
   "cell_type": "code",
   "execution_count": 21,
   "metadata": {},
   "outputs": [
    {
     "data": {
      "text/plain": [
       "(27838, 32, 32)"
      ]
     },
     "execution_count": 21,
     "metadata": {},
     "output_type": "execute_result"
    }
   ],
   "source": [
    "train_features.shape"
   ]
  },
  {
   "cell_type": "code",
   "execution_count": 22,
   "metadata": {},
   "outputs": [],
   "source": [
    "train_features= train_features.reshape(27838,32,32,1)"
   ]
  },
  {
   "cell_type": "code",
   "execution_count": 24,
   "metadata": {},
   "outputs": [],
   "source": [
    "from tensorflow.keras.preprocessing.image import ImageDataGenerator"
   ]
  },
  {
   "cell_type": "code",
   "execution_count": 25,
   "metadata": {},
   "outputs": [],
   "source": [
    "dataGen = ImageDataGenerator(rotation_range=10,width_shift_range=0.1,height_shift_range=0.1,zoom_range=0.2,shear_range=0.1)"
   ]
  },
  {
   "cell_type": "code",
   "execution_count": 26,
   "metadata": {},
   "outputs": [],
   "source": [
    "dataGen.fit(train_features)"
   ]
  },
  {
   "cell_type": "code",
   "execution_count": 27,
   "metadata": {},
   "outputs": [],
   "source": [
    "batches = dataGen.flow(train_features,train_target,batch_size=20)"
   ]
  },
  {
   "cell_type": "code",
   "execution_count": 28,
   "metadata": {},
   "outputs": [
    {
     "data": {
      "text/plain": [
       "1392"
      ]
     },
     "execution_count": 28,
     "metadata": {},
     "output_type": "execute_result"
    }
   ],
   "source": [
    "len(batches)\n",
    "#27838/20"
   ]
  },
  {
   "cell_type": "code",
   "execution_count": 29,
   "metadata": {},
   "outputs": [],
   "source": [
    "images,labels = next(batches)"
   ]
  },
  {
   "cell_type": "markdown",
   "metadata": {},
   "source": [
    "# Ploting the images"
   ]
  },
  {
   "cell_type": "code",
   "execution_count": 30,
   "metadata": {},
   "outputs": [
    {
     "data": {
      "text/plain": [
       "(20, 32, 32, 1)"
      ]
     },
     "execution_count": 30,
     "metadata": {},
     "output_type": "execute_result"
    }
   ],
   "source": [
    "images.shape"
   ]
  },
  {
   "cell_type": "code",
   "execution_count": 32,
   "metadata": {},
   "outputs": [],
   "source": [
    "images = images.reshape(20,32,32)"
   ]
  },
  {
   "cell_type": "code",
   "execution_count": 33,
   "metadata": {},
   "outputs": [],
   "source": [
    "import matplotlib.pyplot as plt "
   ]
  },
  {
   "cell_type": "code",
   "execution_count": 34,
   "metadata": {},
   "outputs": [
    {
     "data": {
      "image/png": "[encoded data removed]",
      "text/plain": [
       "<Figure size 432x288 with 1 Axes>"
      ]
     },
     "metadata": {
      "needs_background": "light"
     },
     "output_type": "display_data"
    }
   ],
   "source": [
    "plt.imshow(images[0])\n",
    "plt.show()"
   ]
  },
  {
   "cell_type": "code",
   "execution_count": 35,
   "metadata": {},
   "outputs": [
    {
     "data": {
      "image/png": "[encoded data removed]",
      "text/plain": [
       "<Figure size 720x720 with 20 Axes>"
      ]
     },
     "metadata": {
      "needs_background": "light"
     },
     "output_type": "display_data"
    }
   ],
   "source": [
    "plt.figure(figsize=(10,10))\n",
    "for i in range(20):\n",
    "    plt.subplot(4,5,i+1)\n",
    "    plt.imshow(images[i])\n",
    "plt.show()    "
   ]
  },
  {
   "cell_type": "code",
   "execution_count": null,
   "metadata": {},
   "outputs": [],
   "source": []
  },
  {
   "cell_type": "markdown",
   "metadata": {},
   "source": [
    "# Model"
   ]
  },
  {
   "cell_type": "code",
   "execution_count": 37,
   "metadata": {},
   "outputs": [],
   "source": [
    "from tensorflow.keras.utils import to_categorical"
   ]
  },
  {
   "cell_type": "code",
   "execution_count": 38,
   "metadata": {},
   "outputs": [],
   "source": [
    "train_target = to_categorical(train_target)"
   ]
  },
  {
   "cell_type": "code",
   "execution_count": 39,
   "metadata": {},
   "outputs": [
    {
     "data": {
      "text/plain": [
       "(27838, 43)"
      ]
     },
     "execution_count": 39,
     "metadata": {},
     "output_type": "execute_result"
    }
   ],
   "source": [
    "train_target.shape"
   ]
  },
  {
   "cell_type": "markdown",
   "metadata": {},
   "source": [
    "# Architecture"
   ]
  },
  {
   "cell_type": "code",
   "execution_count": 41,
   "metadata": {},
   "outputs": [],
   "source": [
    "from tensorflow.keras.models import Sequential\n",
    "from tensorflow.keras.layers import Dense,Flatten,Conv2D,MaxPooling2D,Dropout"
   ]
  },
  {
   "cell_type": "code",
   "execution_count": 42,
   "metadata": {},
   "outputs": [],
   "source": [
    "model = Sequential()\n",
    "model.add(Conv2D(60,(3,3),activation=\"relu\",input_shape=(32,32,1)))\n",
    "model.add(Conv2D(60,(3,3),activation=\"relu\"))\n",
    "model.add(MaxPooling2D(2,2))\n",
    "model.add(Conv2D(30,(3,3),activation=\"relu\"))\n",
    "model.add(Conv2D(30,(3,3),activation=\"relu\"))\n",
    "model.add(Conv2D(30,(3,3),activation=\"relu\"))\n",
    "model.add(MaxPooling2D(2,2))\n",
    "model.add(Dropout(0.5))\n",
    "model.add(Flatten())\n",
    "model.add(Dense(500,activation=\"relu\"))\n",
    "model.add(Dense(43,activation=\"softmax\"))"
   ]
  },
  {
   "cell_type": "markdown",
   "metadata": {},
   "source": [
    "# Compilation"
   ]
  },
  {
   "cell_type": "code",
   "execution_count": 43,
   "metadata": {},
   "outputs": [],
   "source": [
    "from tensorflow.keras.optimizers import Adam"
   ]
  },
  {
   "cell_type": "code",
   "execution_count": 44,
   "metadata": {},
   "outputs": [],
   "source": [
    "model.compile(Adam(learning_rate= 0.001),loss=\"categorical_crossentropy\",metrics=[\"accuracy\"])"
   ]
  },
  {
   "cell_type": "markdown",
   "metadata": {},
   "source": [
    "# Training the Model"
   ]
  },
  {
   "cell_type": "markdown",
   "metadata": {},
   "source": [
    "Generating new images, and combining it with origianal images, and train on those original images"
   ]
  },
  {
   "cell_type": "code",
   "execution_count": 45,
   "metadata": {},
   "outputs": [
    {
     "name": "stderr",
     "output_type": "stream",
     "text": [
      "C:\\Users\\91808\\anaconda3\\lib\\site-packages\\tensorflow\\python\\keras\\engine\\training.py:1940: UserWarning: `Model.fit_generator` is deprecated and will be removed in a future version. Please use `Model.fit`, which supports generators.\n",
      "  warnings.warn('`Model.fit_generator` is deprecated and '\n"
     ]
    },
    {
     "name": "stdout",
     "output_type": "stream",
     "text": [
      "Epoch 1/20\n",
      "1392/1392 [==============================] - 266s 190ms/step - loss: 2.1512 - accuracy: 0.3929\n",
      "Epoch 2/20\n",
      "1392/1392 [==============================] - 285s 205ms/step - loss: 0.6998 - accuracy: 0.7841\n",
      "Epoch 3/20\n",
      "1392/1392 [==============================] - 226s 162ms/step - loss: 0.4383 - accuracy: 0.8650\n",
      "Epoch 4/20\n",
      "1392/1392 [==============================] - 197s 141ms/step - loss: 0.3390 - accuracy: 0.8938\n",
      "Epoch 5/20\n",
      "1392/1392 [==============================] - 212s 152ms/step - loss: 0.2735 - accuracy: 0.9162\n",
      "Epoch 6/20\n",
      "1392/1392 [==============================] - 197s 141ms/step - loss: 0.2381 - accuracy: 0.9278\n",
      "Epoch 7/20\n",
      "1392/1392 [==============================] - 182s 131ms/step - loss: 0.2155 - accuracy: 0.9335\n",
      "Epoch 8/20\n",
      "1392/1392 [==============================] - 183s 132ms/step - loss: 0.1911 - accuracy: 0.9429\n",
      "Epoch 9/20\n",
      "1392/1392 [==============================] - 197s 141ms/step - loss: 0.1755 - accuracy: 0.9472\n",
      "Epoch 10/20\n",
      "1392/1392 [==============================] - 203s 146ms/step - loss: 0.1611 - accuracy: 0.9502\n",
      "Epoch 11/20\n",
      "1392/1392 [==============================] - 205s 147ms/step - loss: 0.1591 - accuracy: 0.9522\n",
      "Epoch 12/20\n",
      "1392/1392 [==============================] - 204s 146ms/step - loss: 0.1445 - accuracy: 0.9574\n",
      "Epoch 13/20\n",
      "1392/1392 [==============================] - 201s 144ms/step - loss: 0.1302 - accuracy: 0.9599\n",
      "Epoch 14/20\n",
      "1392/1392 [==============================] - 195s 140ms/step - loss: 0.1359 - accuracy: 0.9584\n",
      "Epoch 15/20\n",
      "1392/1392 [==============================] - 197s 142ms/step - loss: 0.1240 - accuracy: 0.9630\n",
      "Epoch 16/20\n",
      "1392/1392 [==============================] - 196s 141ms/step - loss: 0.1264 - accuracy: 0.9639\n",
      "Epoch 17/20\n",
      "1392/1392 [==============================] - 195s 140ms/step - loss: 0.1206 - accuracy: 0.9643\n",
      "Epoch 18/20\n",
      "1392/1392 [==============================] - 195s 140ms/step - loss: 0.1146 - accuracy: 0.9659\n",
      "Epoch 19/20\n",
      "1392/1392 [==============================] - 199s 143ms/step - loss: 0.1172 - accuracy: 0.9654\n",
      "Epoch 20/20\n",
      "1392/1392 [==============================] - 200s 144ms/step - loss: 0.1082 - accuracy: 0.9671\n"
     ]
    },
    {
     "data": {
      "text/plain": [
       "<tensorflow.python.keras.callbacks.History at 0x1ea3767a2b0>"
      ]
     },
     "execution_count": 45,
     "metadata": {},
     "output_type": "execute_result"
    }
   ],
   "source": [
    "model.fit_generator(dataGen.flow(train_features,train_target,batch_size=20),epochs=20)"
   ]
  },
  {
   "cell_type": "markdown",
   "metadata": {},
   "source": [
    "# Saving the Model"
   ]
  },
  {
   "cell_type": "code",
   "execution_count": 46,
   "metadata": {},
   "outputs": [],
   "source": [
    "address = 'C:/Users/91808/Downloads/SPK IIIT/internships and courses/python/files for traffic sign model/'"
   ]
  },
  {
   "cell_type": "code",
   "execution_count": 47,
   "metadata": {},
   "outputs": [],
   "source": [
    "ModelInJson = model.to_json()\n",
    "abc = open(address + 'model_traffic_sign.json', 'w')\n",
    "abc.write(ModelInJson)\n",
    "abc.close()\n",
    "\n",
    "model.save_weights(address + 'model_traffic_sign_weights.h5')"
   ]
  },
  {
   "cell_type": "markdown",
   "metadata": {},
   "source": [
    "# Loading the Model"
   ]
  },
  {
   "cell_type": "code",
   "execution_count": 10,
   "metadata": {},
   "outputs": [],
   "source": [
    "address = 'C:/Users/91808/Downloads/SPK IIIT/internships and courses/python/files for traffic sign model/'"
   ]
  },
  {
   "cell_type": "code",
   "execution_count": 11,
   "metadata": {},
   "outputs": [],
   "source": [
    "from tensorflow.keras.models import model_from_json"
   ]
  },
  {
   "cell_type": "code",
   "execution_count": 12,
   "metadata": {},
   "outputs": [],
   "source": [
    "abc = open(address + 'model_traffic_sign.json','r')\n",
    "loaded_data = abc.read()\n",
    "loaded_model = model_from_json(loaded_data)\n",
    "loaded_model.load_weights(address + 'model_traffic_sign_weights.h5')"
   ]
  },
  {
   "cell_type": "markdown",
   "metadata": {},
   "source": [
    "# Testing the Model"
   ]
  },
  {
   "cell_type": "code",
   "execution_count": 13,
   "metadata": {},
   "outputs": [],
   "source": [
    "import cv2"
   ]
  },
  {
   "cell_type": "code",
   "execution_count": 14,
   "metadata": {},
   "outputs": [],
   "source": [
    "def preprocessing(image):\n",
    "    image = cv2.cvtColor(image,cv2.COLOR_BGR2GRAY)\n",
    "    image = image/225\n",
    "\n",
    "\n",
    "    return image"
   ]
  },
  {
   "cell_type": "code",
   "execution_count": 15,
   "metadata": {},
   "outputs": [],
   "source": [
    "def getClassname(classNo):\n",
    "    if classNo == 0:    return 'Speed limit (20km/h)'\n",
    "    elif classNo == 1:    return 'Speed limit (30km/h)'\n",
    "    elif classNo == 2:    return 'Speed limit (50km/h)'\n",
    "    elif classNo == 3:    return 'Speed limit (60km/h)'\n",
    "    elif classNo == 4:    return 'Speed limit (70km/h)'\n",
    "    elif classNo == 5:    return 'Speed limit (80km/h)'\n",
    "    elif classNo == 6:    return 'End of speed limit (80km/h)'\n",
    "    elif classNo == 7:    return 'Speed limit (100km/h)'\n",
    "    elif classNo == 8:    return 'Speed limit (120km/h)'\n",
    "    elif classNo == 9:    return 'No passing '\n",
    "    elif classNo == 10:    return 'No passing for vechiles over 3.5 metric tons'\n",
    "    elif classNo == 11:    return 'Right-of-way at the next intersection'\n",
    "    elif classNo == 12:    return 'Priority road'\n",
    "    elif classNo == 13:    return 'Yield'\n",
    "    elif classNo == 14:    return 'Stop'\n",
    "    elif classNo == 15:    return 'No Vechicles'\n",
    "    elif classNo == 16:    return 'Vechiles over 3.5 metric tons prohibited'\n",
    "    elif classNo == 17:    return 'No Entry'\n",
    "    elif classNo == 18:    return 'General caution'\n",
    "    elif classNo == 19:    return 'Dangerous curve to the left'\n",
    "    elif classNo == 20:    return 'Dangerous curve to the right'\n",
    "    elif classNo == 21:    return 'Double Curve'\n",
    "    elif classNo == 22:    return 'Bumpy road'\n",
    "    elif classNo == 23:    return 'Slippery road'\n",
    "    elif classNo == 24:    return 'Road narrows on the right'\n",
    "    elif classNo == 25:    return 'Road work'\n",
    "    elif classNo == 26:    return 'Traffic signals'\n",
    "    elif classNo == 27:    return 'Pedestrians'\n",
    "    elif classNo == 28:    return 'Children crossing'\n",
    "    elif classNo == 29:    return 'Bicycle crossing'\n",
    "    elif classNo == 30:    return 'Beware of ice/snow'\n",
    "    elif classNo == 31:    return 'Wild animals crossing'\n",
    "    elif classNo == 32:    return 'End of all speed and passing limits'\n",
    "    elif classNo == 33:    return 'Turn right ahead'\n",
    "    elif classNo == 34:    return 'Turn left ahead'\n",
    "    elif classNo == 35:    return 'Ahead Only'\n",
    "    elif classNo == 36:    return 'Go straight or right)'\n",
    "    elif classNo == 37:    return 'Go straight or left'\n",
    "    elif classNo == 38:    return 'Keep right'\n",
    "    elif classNo == 39:    return 'Keep left'\n",
    "    elif classNo == 40:    return 'Roundabout mandatory'\n",
    "    elif classNo == 41:    return 'End of no passing'\n",
    "    elif classNo == 42:    return 'End of no passing by vechiles over 3.5 metric tons'\n",
    "    \n",
    "\n"
   ]
  },
  {
   "cell_type": "code",
   "execution_count": 16,
   "metadata": {},
   "outputs": [],
   "source": [
    "#location of haarcascade_frontalface_default file\n",
    "\n",
    "place = \"C:/Users/91808/Downloads/SPK IIIT/internships and courses/python/\""
   ]
  },
  {
   "cell_type": "code",
   "execution_count": 18,
   "metadata": {
    "scrolled": false
   },
   "outputs": [],
   "source": [
    "from tensorflow.keras.models import load_model\n",
    "import cv2\n",
    "import numpy as np\n",
    "\n",
    "cv2.ocl.setUseOpenCL(False)\n",
    "\n",
    "\n",
    "cap = cv2.VideoCapture(0)\n",
    "cap.set(3,640)\n",
    "cap.set(4,480)\n",
    "cap.set(10,180)\n",
    "\n",
    "while True:\n",
    "    message,image = cap.read()\n",
    "    imagearr = np.asarray(image)\n",
    "    imagearr = cv2.resize(image,(32,32))\n",
    "    imagearr = preprocessing(imagearr)\n",
    "    imagearr = imagearr.reshape(1,32,32,1)\n",
    "    predictions= loaded_model.predict(imagearr)\n",
    "    NeuronIndex = loaded_model.predict_classes(imagearr)\n",
    "    cv2.putText(image,\"Class: \",(20,35),cv2.FONT_HERSHEY_COMPLEX,1,(0,0,225),2)\n",
    "    cv2.putText(image,\"Probablity: \",(20,75),cv2.FONT_HERSHEY_COMPLEX,1,(0,0,225),2)\n",
    "    ProbablityValue = np.amax(predictions)\n",
    "    if ProbablityValue > 0.75:\n",
    "        cv2.putText(image,getClassname(NeuronIndex),(120,35),cv2.FONT_HERSHEY_COMPLEX,1,(0,0,225),2)\n",
    "        cv2.putText(image,str(int(ProbablityValue*100)) + \"%\",(200,75),cv2.FONT_HERSHEY_COMPLEX,1,(0,0,225),2)\n",
    "    cv2.imshow(\"Model Predcition\",image)\n",
    "    if cv2.waitKey(1) & 0xFF == ord('q'):\n",
    "        break\n",
    "\n",
    "cap.release()\n",
    "cv2.destroyAllWindows()        "
   ]
  },
  {
   "cell_type": "code",
   "execution_count": null,
   "metadata": {},
   "outputs": [],
   "source": []
  }
 ],
 "metadata": {
  "interpreter": {
   "hash": "27f3d932288ddc4e2df29eb33ea5bae86f1181ac232c10f08214116c8905c8d0"
  },
  "kernelspec": {
   "display_name": "Python 3",
   "language": "python",
   "name": "python3"
  },
  "language_info": {
   "codemirror_mode": {
    "name": "ipython",
    "version": 3
   },
   "file_extension": ".py",
   "mimetype": "text/x-python",
   "name": "python",
   "nbconvert_exporter": "python",
   "pygments_lexer": "ipython3",
   "version": "3.8.8"
  }
 },
 "nbformat": 4,
 "nbformat_minor": 2
}
